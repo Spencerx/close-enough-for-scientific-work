{
 "metadata": {
  "language": "Julia",
  "name": "",
  "signature": "sha256:10113dcba06d6ebf73df833074b9c47533f70c44580b17e921ae776bcce77b53"
 },
 "nbformat": 3,
 "nbformat_minor": 0,
 "worksheets": [
  {
   "cells": [
    {
     "cell_type": "markdown",
     "metadata": {},
     "source": [
      "#\u00a0Physical Tests\n",
      "\n",
      "## Symmetries are simple tests"
     ]
    }
   ],
   "metadata": {}
  }
 ]
}