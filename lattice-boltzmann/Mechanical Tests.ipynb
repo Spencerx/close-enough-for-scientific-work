{
 "metadata": {
  "language": "Julia",
  "name": "",
  "signature": "sha256:15c70c1648fe2c2d4fd47957048ebc72cae4be2aaba4b3f131d26746bb465f9d"
 },
 "nbformat": 3,
 "nbformat_minor": 0,
 "worksheets": [
  {
   "cells": [
    {
     "cell_type": "markdown",
     "metadata": {},
     "source": [
      "# Mechanical Tests"
     ]
    }
   ],
   "metadata": {}
  }
 ]
}