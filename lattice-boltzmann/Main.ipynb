{
 "metadata": {
  "language": "Julia",
  "name": "",
  "signature": "sha256:cfb5d894f5437bc252fd429cad933ecbf1ce5f6e98c65f43b99c84eaca712400"
 },
 "nbformat": 3,
 "nbformat_minor": 0,
 "worksheets": [
  {
   "cells": [
    {
     "cell_type": "markdown",
     "metadata": {},
     "source": [
      "# Unit-testing and testing a Lattice-Boltzman simulation\n",
      "\n",
      "##\u00a0Introduction\n",
      "\n",
      "\n",
      "The Lattice-Boltzmann method solves the Navier-Stokes equations - i.e. fluid\n",
      "dynamics. This method maps the continuous fluid dynamics problem onto a discrete cartesian grid where populations of fictives populations stream (move from point to point) and collide (intereact and exchange particles). Each population of particles moves at a distinct speed: for instance, there is one population of particles moving one grid point East each turn, and another moving one grid point North-West.\n",
      "\n",
      "In this chapter, we will describe the test driven implementation of Lattice-Boltzmann code simulation in [Julia](http://julialang.org/). We will put special emphasis on two approaches for designing tests. In practice, both of these approaches have a common goal; it is to simplify how we think about a piece of code.\n",
      "\n",
      "- *Mechanical* tests that simply check a function does what it does, whithout any regards or care for actual physics. The code to test is transparent box with it inside mechanics visible. However, its input and output need not be physically meaningful (during testing), as long as the internal mechanics get exercised the same way. This may mean that we will substitute real numbers with dummy integers in order to avoid pesky floating point comparisons. Or we may substitute pieces of the internals with dummy agents: we care that internal function X gets called twice and that its arguments are such and such according to the flow of data within a piece of code, but we often may not care whether function X does anything! (why? most likely because the real function X is tested elsewhere).\n",
      "- *Physical* tests that try and implement specific situations with known physical outcomes. The code to test is a black box that is fed physical inputs, and thanks to whichever wizard with whatever magic, outputs more physics. In that case, we will often try and reproduces expected behaviours rather than reproduce absolute numbers; e.g . what happens to the velocity when the pressure is doubled, or the size of the pipe halved. Going after specific behaviors is often conceptually simpler that attempting to check that every aspect of the state of a simulation is correct.\n",
      "\n",
      "The code used throughout the chapter is based on\n",
      "[LatBo.jl](https://github.com/UCL/LatBo.jl). It was developped during the\n",
      "course of a Hackathon sponsored by the [Software Sustainability\n",
      "Institute](http://www.software.ac.uk/).\n",
      "\n",
      "[LatBo.jl](https://github.com/UCL/LatBo.jl) exists as a Julia package. It can\n",
      "be installed from the Julia prompt with:"
     ]
    },
    {
     "cell_type": "code",
     "collapsed": false,
     "input": [
      "if !haskey(Pkg.installed(), \"LatBo\")\n",
      "    Pkg.clone(\"git@github.com:UCL/LatBo.jl.git\")\n",
      "end"
     ],
     "language": "python",
     "metadata": {},
     "outputs": [],
     "prompt_number": 1
    },
    {
     "cell_type": "markdown",
     "metadata": {},
     "source": [
      "And since this about testing, we should certainly check that all tests pass:"
     ]
    },
    {
     "cell_type": "code",
     "collapsed": false,
     "input": [
      "Pkg.test(\"LatBo\")"
     ],
     "language": "python",
     "metadata": {},
     "outputs": [
      {
       "output_type": "stream",
       "stream": "stderr",
       "text": [
        "INFO: Computing test dependencies for LatBo...\n"
       ]
      },
      {
       "output_type": "stream",
       "stream": "stderr",
       "text": [
        "INFO: No packages to install, update or remove\n",
        "INFO: Testing LatBo\n"
       ]
      },
      {
       "output_type": "stream",
       "stream": "stdout",
       "text": [
        "Check pipe geometries\n"
       ]
      },
      {
       "output_type": "stream",
       "stream": "stdout",
       "text": [
        "     - 2d\n"
       ]
      },
      {
       "output_type": "stream",
       "stream": "stdout",
       "text": [
        "     - 3d\n"
       ]
      },
      {
       "output_type": "stream",
       "stream": "stdout",
       "text": [
        "160 facts verified.\n"
       ]
      },
      {
       "output_type": "stream",
       "stream": "stdout",
       "text": [
        "Check half-plane geometries\n",
        "     - 3d\n"
       ]
      },
      {
       "output_type": "stream",
       "stream": "stdout",
       "text": [
        "128 facts verified.\n",
        "Check sphere geometries\n",
        "     - 3d\n"
       ]
      },
      {
       "output_type": "stream",
       "stream": "stdout",
       "text": [
        "512 facts verified.\n"
       ]
      },
      {
       "output_type": "stream",
       "stream": "stdout",
       "text": [
        "Grid coordinates to array index\n",
        "     - Cartesian\n"
       ]
      },
      {
       "output_type": "stream",
       "stream": "stdout",
       "text": [
        "     - Periodic\n"
       ]
      },
      {
       "output_type": "stream",
       "stream": "stdout",
       "text": [
        "9 facts verified.\n",
        "Array index to grid coordinates\n"
       ]
      },
      {
       "output_type": "stream",
       "stream": "stdout",
       "text": [
        "3 facts verified.\n",
        "Lattice direction inversion\n",
        "     - for D2Q9\n"
       ]
      },
      {
       "output_type": "stream",
       "stream": "stdout",
       "text": [
        "     - for D3Q19\n"
       ]
      },
      {
       "output_type": "stream",
       "stream": "stdout",
       "text": [
        "8 facts verified.\n",
        "Thermodynamic quantities and functions\n",
        "     - for D2Q9\n",
        "       - rho is a geometric series\n"
       ]
      },
      {
       "output_type": "stream",
       "stream": "stdout",
       "text": [
        "       - homogeneous populations sum to zero momentum\n"
       ]
      },
      {
       "output_type": "stream",
       "stream": "stdout",
       "text": [
        "       - velocity from momentum and density \n"
       ]
      },
      {
       "output_type": "stream",
       "stream": "stdout",
       "text": [
        "       - equilibrium function\n"
       ]
      },
      {
       "output_type": "stream",
       "stream": "stdout",
       "text": [
        "       - local quantities aggregator\n"
       ]
      },
      {
       "output_type": "stream",
       "stream": "stdout",
       "text": [
        "     - for D3Q19\n",
        "       - rho is a geometric series\n",
        "       - homogeneous populations sum to zero momentum\n",
        "       - velocity from momentum and density \n",
        "       - equilibrium function\n",
        "       - local quantities aggregator\n",
        "30 facts verified.\n"
       ]
      },
      {
       "output_type": "stream",
       "stream": "stdout",
       "text": [
        "Collision kernels\n",
        "     - Single relaxation time\n"
       ]
      },
      {
       "output_type": "stream",
       "stream": "stdout",
       "text": [
        "5 facts verified.\n",
        "Streaming kernels\n"
       ]
      },
      {
       "output_type": "stream",
       "stream": "stdout",
       "text": [
        "     - Fluid to Fluid streaming\n"
       ]
      },
      {
       "output_type": "stream",
       "stream": "stdout",
       "text": [
        "     - Halfway bounce-back streaming\n"
       ]
      },
      {
       "output_type": "stream",
       "stream": "stdout",
       "text": [
        "11 facts verified.\n"
       ]
      },
      {
       "output_type": "stream",
       "stream": "stdout",
       "text": [
        "Inlets and Outlets\n",
        "     - Velocity\n",
        "       - General algorithm\n"
       ]
      },
      {
       "output_type": "stream",
       "stream": "stdout",
       "text": [
        "       - parabolic\n"
       ]
      },
      {
       "output_type": "stream",
       "stream": "stdout",
       "text": [
        "     - Nash zero pressure\n"
       ]
      },
      {
       "output_type": "stream",
       "stream": "stdout",
       "text": [
        "18 facts verified.\n"
       ]
      },
      {
       "output_type": "stream",
       "stream": "stdout",
       "text": [
        "Initialization\n",
        "     - Homogeneous momentum and density\n"
       ]
      },
      {
       "output_type": "stream",
       "stream": "stdout",
       "text": [
        "     - Loop over all sites\n"
       ]
      },
      {
       "output_type": "stream",
       "stream": "stdout",
       "text": [
        "4 facts verified.\n"
       ]
      },
      {
       "output_type": "stream",
       "stream": "stdout",
       "text": [
        "Local fluid kernel\n"
       ]
      },
      {
       "output_type": "stream",
       "stream": "stdout",
       "text": [
        "     - Check mock calls\n"
       ]
      },
      {
       "output_type": "stream",
       "stream": "stdout",
       "text": [
        "     - Loop over all sites\n"
       ]
      },
      {
       "output_type": "stream",
       "stream": "stdout",
       "text": [
        "14 facts verified.\n"
       ]
      },
      {
       "output_type": "stream",
       "stream": "stderr",
       "text": [
        "INFO: LatBo tests passed\n"
       ]
      },
      {
       "output_type": "stream",
       "stream": "stderr",
       "text": [
        "INFO: No packages to install, update or remove\n"
       ]
      }
     ],
     "prompt_number": 5
    },
    {
     "cell_type": "markdown",
     "metadata": {},
     "source": [
      "##\u00a0Description of the Lattice-Boltzmann model\n",
      "\n",
      "As mentioned previously, Lattice-Boltmann works by modeling the interactions of distinct fictitious populations of particles on a square grid. At time $t$, on each site $\\vec{r}$ of the grid, there $f_i(t, \\vec{r})$ particles of type $i$. Each type of particle moves at a specific speed in a specific direction (velocity $\\vec{c}_i$), never wavering.\n",
      "\n",
      "There are three steps to the algorithm:\n",
      "\n",
      "### Initialization\n",
      "\n",
      "The $f_i(t, \\vec{r})$ are set such in some manner that ensure convergence. We will not examine this step further.\n",
      "\n",
      "### Collision\n",
      "\n",
      "In this step, all the particles at each site $\\vec{r}$ collide together. Some particles of type $1$ will become particles of type $2$, and vice-versa. In practice, this means the collision change the speed and direction of the particles. In one approximation, used in this code, the new numbers of particle $f^{*}_i(t, \\vec{r})$ is obtained as:\n",
      "\n",
      "$f^{*}_i(t, \\vec{r}) = f_i(t, \\vec{r}) + \\frac{1}{\\tau}\\left[f_i(t, \\vec{r}) - f^{eq}_i(...)\\right]$\n",
      "\n",
      "$f^{eq}_i(...)$ is the equilibrium number of particles of type $i$. It is obtained from the fluid velocity and density at site $\\vec{r}$ in ways we shall not fathom here.\n",
      "\n",
      "### Streaming\n",
      "\n",
      "Streaming means the particles move to the next site, depending upon the speed of each particle. *After collision*, the particles of type $i$ on site $\\vec{r}$ move in concert at the speed $c_i$ characteristic of their type to the neighgoring site $\\vec{r}'=\\vec{r} + \\delta\\,t\\vec{c}_i$, where $\\delta\\,t$ is the timestep. And so:\n",
      "\n",
      "$f_i(t+1, \\vec{r}) = f_i^{*}(t, \\vec{r} - \\delta\\,t\\vec{c}_i)$\n",
      "\n",
      "There is one caveat however. What happens at the edge of the simulation? This is determined by the boundary conditions. In some case, the particles will hit a wall and bounce back. In other case, the particles will reach an inlet or an outlet, and something happens that will ensure (for instance) the fluid streams into the simulation with a given velocity, and streams out at a given pressure. The populations are then adjusted explicitly to constrain to the boundary condition. "
     ]
    }
   ],
   "metadata": {}
  }
 ]
}